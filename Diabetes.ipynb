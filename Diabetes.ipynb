{
  "nbformat": 4,
  "nbformat_minor": 0,
  "metadata": {
    "colab": {
      "provenance": [],
      "authorship_tag": "ABX9TyMsNgZaBRtXr7miyOIQ+gbu",
      "include_colab_link": true
    },
    "kernelspec": {
      "name": "python3",
      "display_name": "Python 3"
    },
    "language_info": {
      "name": "python"
    }
  },
  "cells": [
    {
      "cell_type": "markdown",
      "metadata": {
        "id": "view-in-github",
        "colab_type": "text"
      },
      "source": [
        "<a href=\"https://colab.research.google.com/github/Faith90Njeri/Diabetes/blob/main/Diabetes.ipynb\" target=\"_parent\"><img src=\"https://colab.research.google.com/assets/colab-badge.svg\" alt=\"Open In Colab\"/></a>"
      ]
    },
    {
      "cell_type": "code",
      "execution_count": 9,
      "metadata": {
        "colab": {
          "base_uri": "https://localhost:8080/"
        },
        "id": "5rAkAkcFoJEk",
        "outputId": "de58b651-68e3-48f8-bc51-6e9f8e07674a"
      },
      "outputs": [
        {
          "output_type": "stream",
          "name": "stdout",
          "text": [
            "KNN scores: [0.75974026 0.70779221 0.69480519 0.71895425 0.66013072]\n",
            "KNN mean accuracy: 0.7082845259315846, KNN accuracy std deviation: 0.03244151472971864\n",
            "Decision Tree scores: [0.69480519 0.66883117 0.61688312 0.7254902  0.69934641]\n",
            "Decision Tree mean accuracy: 0.6810712163653341, Decision Tree accuracy std deviation: 0.03678472870447886\n"
          ]
        }
      ],
      "source": [
        "import pandas as pd\n",
        "import numpy as np\n",
        "from sklearn.model_selection import KFold, cross_val_score\n",
        "from sklearn.neighbors import KNeighborsClassifier\n",
        "from sklearn.tree import DecisionTreeClassifier\n",
        "from sklearn.metrics import accuracy_score\n",
        "\n",
        "# Load the dataset\n",
        "file_path = '/content/diabetes (1).csv'\n",
        "data = pd.read_csv(file_path)\n",
        "\n",
        "# Columns that need to have invalid zeros converted to NaNs\n",
        "cols_with_zeros = ['Glucose', 'BloodPressure', 'SkinThickness', 'Insulin', 'BMI']\n",
        "\n",
        "# Replace zeros with NaNs in the specified columns\n",
        "data[cols_with_zeros] = data[cols_with_zeros].replace({0: np.nan})\n",
        "\n",
        "# Fill NaNs with the mean values of their respective columns\n",
        "data_filled = data.fillna(data.mean())\n",
        "\n",
        "# Define features and target variable\n",
        "X = data_filled.drop(columns=['Outcome'])\n",
        "y = data_filled['Outcome']\n",
        "\n",
        "# Initialize k-fold cross-validation\n",
        "kf = KFold(n_splits=5, shuffle=True, random_state=1)\n",
        "\n",
        "# Initialize KNN classifier\n",
        "knn = KNeighborsClassifier(n_neighbors=5)\n",
        "\n",
        "# Perform k-fold cross-validation for KNN\n",
        "knn_scores = cross_val_score(knn, X, y, cv=kf, scoring='accuracy')\n",
        "\n",
        "# Initialize Decision Tree classifier\n",
        "dt = DecisionTreeClassifier(random_state=1)\n",
        "\n",
        "# Perform k-fold cross-validation for Decision Tree\n",
        "dt_scores = cross_val_score(dt, X, y, cv=kf, scoring='accuracy')\n",
        "\n",
        "# Calculate mean and standard deviation of the scores\n",
        "knn_mean = knn_scores.mean()\n",
        "knn_std = knn_scores.std()\n",
        "dt_mean = dt_scores.mean()\n",
        "dt_std = dt_scores.std()\n",
        "\n",
        "print(f'KNN scores: {knn_scores}')\n",
        "print(f'KNN mean accuracy: {knn_mean}, KNN accuracy std deviation: {knn_std}')\n",
        "print(f'Decision Tree scores: {dt_scores}')\n",
        "print(f'Decision Tree mean accuracy: {dt_mean}, Decision Tree accuracy std deviation: {dt_std}')\n"
      ]
    }
  ]
}